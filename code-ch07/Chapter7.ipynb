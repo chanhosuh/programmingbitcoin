{
 "cells": [
  {
   "cell_type": "code",
   "execution_count": 124,
   "metadata": {},
   "outputs": [],
   "source": [
    "############## PLEASE RUN THIS CELL FIRST! ###################\n",
    "\n",
    "# import everything and define a test runner function\n",
    "from importlib import reload\n",
    "from helper import run\n",
    "import ecc\n",
    "import helper\n",
    "import tx\n",
    "import script"
   ]
  },
  {
   "cell_type": "code",
   "execution_count": 125,
   "metadata": {},
   "outputs": [
    {
     "name": "stdout",
     "output_type": "stream",
     "text": [
      "True\n"
     ]
    }
   ],
   "source": [
    "from tx import Tx\n",
    "from io import BytesIO\n",
    "raw_tx = ('0100000001813f79011acb80925dfe69b3def355fe914bd1d96a3f5f71bf8303c6a989c7d1000000006b483045022100ed81ff192e75a3fd2304004dcadb746fa5e24c5031ccfcf21320b0277457c98f02207a986d955c6e0cb35d446a89d3f56100f4d7f67801c31967743a9c8e10615bed01210349fc4e631e3624a545de3f89f5d8684c7b8138bd94bdd531d2e213bf016b278afeffffff02a135ef01000000001976a914bc3b654dca7e56b04dca18f2566cdaf02e8d9ada88ac99c39800000000001976a9141c4bc762dd5423e332166702cb75f40df79fea1288ac19430600')\n",
    "stream = BytesIO(bytes.fromhex(raw_tx))\n",
    "transaction = Tx.parse(stream)\n",
    "print(transaction.fee() >= 0)"
   ]
  },
  {
   "cell_type": "code",
   "execution_count": 126,
   "metadata": {},
   "outputs": [
    {
     "name": "stdout",
     "output_type": "stream",
     "text": [
      "True\n"
     ]
    }
   ],
   "source": [
    "from ecc import S256Point, Signature\n",
    "sec = bytes.fromhex('0349fc4e631e3624a545de3f89f5d8684c7b8138bd94bdd531d2e213bf016b278a')\n",
    "der = bytes.fromhex('3045022100ed81ff192e75a3fd2304004dcadb746fa5e24c5031ccfcf21320b0277457c98f02207a986d955c6e0cb35d446a89d3f56100f4d7f67801c31967743a9c8e10615bed')\n",
    "z = 0x27e0c5994dec7824e56dec6b2fcb342eb7cdb0d0957c2fce9882f715e85d81a6\n",
    "point = S256Point.parse(sec)\n",
    "signature = Signature.parse(der)\n",
    "print(point.verify(z, signature))"
   ]
  },
  {
   "cell_type": "code",
   "execution_count": 127,
   "metadata": {},
   "outputs": [
    {
     "name": "stdout",
     "output_type": "stream",
     "text": [
      "0x27e0c5994dec7824e56dec6b2fcb342eb7cdb0d0957c2fce9882f715e85d81a6\n"
     ]
    }
   ],
   "source": [
    "from helper import hash256\n",
    "modified_tx = bytes.fromhex('0100000001813f79011acb80925dfe69b3def355fe914bd1d96a3f5f71bf8303c6a989c7d1000000001976a914a802fc56c704ce87c42d7c92eb75e7896bdc41ae88acfeffffff02a135ef01000000001976a914bc3b654dca7e56b04dca18f2566cdaf02e8d9ada88ac99c39800000000001976a9141c4bc762dd5423e332166702cb75f40df79fea1288ac1943060001000000')\n",
    "h256 = hash256(modified_tx)\n",
    "z = int.from_bytes(h256, 'big')\n",
    "print(hex(z))"
   ]
  },
  {
   "cell_type": "code",
   "execution_count": 128,
   "metadata": {},
   "outputs": [
    {
     "data": {
      "text/plain": [
       "True"
      ]
     },
     "execution_count": 128,
     "metadata": {},
     "output_type": "execute_result"
    }
   ],
   "source": [
    "from ecc import S256Point, Signature\n",
    "sec = bytes.fromhex('0349fc4e631e3624a545de3f89f5d8684c7b8138bd94bdd531d2e213bf016b278a')\n",
    "der = bytes.fromhex('3045022100ed81ff192e75a3fd2304004dcadb746fa5e24c5031ccfcf21320b0277457c98f02207a986d955c6e0cb35d446a89d3f56100f4d7f67801c31967743a9c8e10615bed')\n",
    "z = 0x27e0c5994dec7824e56dec6b2fcb342eb7cdb0d0957c2fce9882f715e85d81a6\n",
    "point = S256Point.parse(sec)\n",
    "signature = Signature.parse(der)\n",
    "point.verify(z, signature)"
   ]
  },
  {
   "cell_type": "markdown",
   "metadata": {},
   "source": [
    "### Exercise 1\n",
    "\n",
    "Write the `sig_hash` method for the `Tx` class.\n",
    "\n",
    "#### Make [this test](/edit/code-ch07/tx.py) pass: `tx.py:TxTest:test_sig_hash`"
   ]
  },
  {
   "cell_type": "code",
   "execution_count": 202,
   "metadata": {},
   "outputs": [
    {
     "name": "stderr",
     "output_type": "stream",
     "text": [
      ".\n",
      "----------------------------------------------------------------------\n",
      "Ran 1 test in 0.005s\n",
      "\n",
      "OK\n"
     ]
    }
   ],
   "source": [
    "# Exercise 1\n",
    "\n",
    "reload(tx)\n",
    "run(tx.TxTest(\"test_sig_hash\"))"
   ]
  },
  {
   "cell_type": "markdown",
   "metadata": {},
   "source": [
    "### Exercise 2\n",
    "\n",
    "Write the `verify_input` method for the `Tx` class. You will want to use the `TxIn.script_pubkey()`, `Tx.sig_hash()` and `Script.evaluate()` methods.\n",
    "\n",
    "#### Make [this test](/edit/code-ch07/tx.py) pass: `tx.py:TxTest:test_verify_p2pkh`"
   ]
  },
  {
   "cell_type": "code",
   "execution_count": 203,
   "metadata": {},
   "outputs": [
    {
     "name": "stderr",
     "output_type": "stream",
     "text": [
      ".\n",
      "----------------------------------------------------------------------\n",
      "Ran 1 test in 0.379s\n",
      "\n",
      "OK\n"
     ]
    }
   ],
   "source": [
    "# Exercise 2\n",
    "\n",
    "reload(tx)\n",
    "run(tx.TxTest(\"test_verify_p2pkh\"))"
   ]
  },
  {
   "cell_type": "code",
   "execution_count": 204,
   "metadata": {},
   "outputs": [
    {
     "name": "stdout",
     "output_type": "stream",
     "text": [
      "tx: cd30a8da777d28ef0e61efe68a9f7c559c1d3e5bcd7b265c850ccb4068598d11\n",
      "version: 1\n",
      "tx_ins:\n",
      "0d6fe5213c0b3291f208cba8bfb59b7476dffacc4e5cb66f6eb20a080843a299:13\n",
      "tx_outs:\n",
      "33000000:OP_DUP OP_HASH160 d52ad7ca9b3d096a38e752c2018e6fbc40cdf26f OP_EQUALVERIFY OP_CHECKSIG\n",
      "10000000:OP_DUP OP_HASH160 507b27411ccf7f16f10297de6cef3f291623eddf OP_EQUALVERIFY OP_CHECKSIG\n",
      "locktime: 0\n"
     ]
    }
   ],
   "source": [
    "from helper import decode_base58, SIGHASH_ALL\n",
    "from script import p2pkh_script, Script\n",
    "from tx import TxIn, TxOut, Tx\n",
    "prev_tx = bytes.fromhex('0d6fe5213c0b3291f208cba8bfb59b7476dffacc4e5cb66f6eb20a080843a299')\n",
    "prev_index = 13\n",
    "tx_in = TxIn(prev_tx, prev_index)\n",
    "tx_outs = []\n",
    "change_amount = int(0.33*100000000)\n",
    "change_h160 = decode_base58('mzx5YhAH9kNHtcN481u6WkjeHjYtVeKVh2')\n",
    "change_script = p2pkh_script(change_h160)\n",
    "change_output = TxOut(amount=change_amount, script_pubkey=change_script)\n",
    "target_amount = int(0.1*100000000)\n",
    "target_h160 = decode_base58('mnrVtF8DWjMu839VW3rBfgYaAfKk8983Xf')\n",
    "target_script = p2pkh_script(target_h160)\n",
    "target_output = TxOut(amount=target_amount, script_pubkey=target_script)\n",
    "transaction = Tx(1, [tx_in], [change_output, target_output], 0, True)\n",
    "print(transaction)"
   ]
  },
  {
   "cell_type": "code",
   "execution_count": 205,
   "metadata": {},
   "outputs": [
    {
     "name": "stdout",
     "output_type": "stream",
     "text": [
      "010000000199a24308080ab26e6fb65c4eccfadf76749bb5bfa8cb08f291320b3c21e56f0d0d0000006b4830450221008ed46aa2cf12d6d81065bfabe903670165b538f65ee9a3385e6327d80c66d3b502203124f804410527497329ec4715e18558082d489b218677bd029e7fa306a72236012103935581e52c354cd2f484fe8ed83af7a3097005b2f9c60bff71d35bd795f54b67ffffffff02408af701000000001976a914d52ad7ca9b3d096a38e752c2018e6fbc40cdf26f88ac80969800000000001976a914507b27411ccf7f16f10297de6cef3f291623eddf88ac00000000\n"
     ]
    }
   ],
   "source": [
    "from ecc import PrivateKey\n",
    "from helper import SIGHASH_ALL\n",
    "z = transaction.sig_hash(0)\n",
    "private_key = PrivateKey(secret=8675309)\n",
    "der = private_key.sign(z).der()\n",
    "sig = der + SIGHASH_ALL.to_bytes(1, 'big')\n",
    "sec = private_key.point.sec()\n",
    "script_sig = Script([sig, sec])\n",
    "transaction.tx_ins[0].script_sig = script_sig \n",
    "print(transaction.serialize().hex())"
   ]
  },
  {
   "cell_type": "code",
   "execution_count": 208,
   "metadata": {},
   "outputs": [
    {
     "data": {
      "text/plain": [
       "True"
      ]
     },
     "execution_count": 208,
     "metadata": {},
     "output_type": "execute_result"
    }
   ],
   "source": [
    "transaction.verify()"
   ]
  },
  {
   "cell_type": "code",
   "execution_count": 207,
   "metadata": {},
   "outputs": [
    {
     "name": "stdout",
     "output_type": "stream",
     "text": [
      "mn81594PzKZa9K3Jyy1ushpuEzrnTnxhVg\n"
     ]
    }
   ],
   "source": [
    "from ecc import PrivateKey\n",
    "from helper import hash256, little_endian_to_int\n",
    "secret = little_endian_to_int(hash256(b'Jimmy Song secret'))\n",
    "private_key = PrivateKey(secret)\n",
    "print(private_key.point.address(testnet=True))"
   ]
  },
  {
   "cell_type": "markdown",
   "metadata": {},
   "source": [
    "### Exercise 3\n",
    "\n",
    "Write the `sign_input` method for the `Tx` class.\n",
    "\n",
    "#### Make [this test](/edit/code-ch07/tx.py) pass: `tx.py:TxTest:test_sign_input`"
   ]
  },
  {
   "cell_type": "code",
   "execution_count": 226,
   "metadata": {},
   "outputs": [
    {
     "name": "stderr",
     "output_type": "stream",
     "text": [
      ".\n",
      "----------------------------------------------------------------------\n",
      "Ran 1 test in 0.287s\n",
      "\n",
      "OK\n"
     ]
    }
   ],
   "source": [
    "# Exercise 3\n",
    "\n",
    "reload(tx)\n",
    "run(tx.TxTest(\"test_sign_input\"))"
   ]
  },
  {
   "cell_type": "markdown",
   "metadata": {},
   "source": [
    "### Exercise 4\n",
    "\n",
    "Create a testnet transaction that sends 60% of a single UTXO to `mwJn1YPMq7y5F8J3LkC5Hxg9PHyZ5K4cFv`. The remaining amount minus fees should go back to your own change address. This should be a 1 input, 2 output transaction.\n",
    "\n",
    "You can broadcast the transaction at https://testnet.blockchain.info/pushtx"
   ]
  },
  {
   "cell_type": "code",
   "execution_count": 232,
   "metadata": {},
   "outputs": [
    {
     "name": "stdout",
     "output_type": "stream",
     "text": [
      "my address: mfvaMULiWEKRBggtFw1Bo1hy5azxMTZDey \n",
      "\n",
      "tx: 1ea9f8ca1791a053fdc004f84a6e819b5381d516814305a18352847bbdc0b0db\n",
      "version: 1\n",
      "tx_ins:\n",
      "eb59e7694c3b28c3b0c79ef7760f06e6306f5ae2aed5c545da0a9d747b31a2e6:0\n",
      "tx_outs:\n",
      "600000:OP_DUP OP_HASH160 ad346f8eb57dee9a37981716e498120ae80e44f7 OP_EQUALVERIFY OP_CHECKSIG\n",
      "300000:OP_DUP OP_HASH160 0477aae80ef3609795192e05e78215117ce8a179 OP_EQUALVERIFY OP_CHECKSIG\n",
      "locktime: 0 \n",
      "\n",
      "transaction signed successfully: True \n",
      "\n",
      "transaction verified: True \n",
      "\n",
      "signed transaction:\n",
      " tx: dc081b66f6e50978b97dd17403757ae9b423eaac413db95694059f4ea680bd77\n",
      "version: 1\n",
      "tx_ins:\n",
      "eb59e7694c3b28c3b0c79ef7760f06e6306f5ae2aed5c545da0a9d747b31a2e6:0\n",
      "tx_outs:\n",
      "600000:OP_DUP OP_HASH160 ad346f8eb57dee9a37981716e498120ae80e44f7 OP_EQUALVERIFY OP_CHECKSIG\n",
      "300000:OP_DUP OP_HASH160 0477aae80ef3609795192e05e78215117ce8a179 OP_EQUALVERIFY OP_CHECKSIG\n",
      "locktime: 0 \n",
      "\n",
      "transaction hex:\n",
      " 0100000001e6a2317b749d0ada45c5d5aee25a6f30e6060f76f79ec7b0c3283b4c69e759eb000000006b483045022100a5c01ac5f483600c3ac90b9b6c3f9bb43e45bc122530fef03c65d9e0cbd8cbc60220557caeabb2ce61ea6fe2fa95ebf0c2557589b45d6c64245ff21a2ccc81d969bb01210220bc554308700a6882193f7d695f0ce9a8484b906e98c9b2b173958cacc63c87ffffffff02c0270900000000001976a914ad346f8eb57dee9a37981716e498120ae80e44f788ace0930400000000001976a9140477aae80ef3609795192e05e78215117ce8a17988ac00000000 \n",
      "\n"
     ]
    }
   ],
   "source": [
    "# Exercise 4\n",
    "\n",
    "from ecc import PrivateKey\n",
    "from helper import decode_base58, SIGHASH_ALL, little_endian_to_int, hash160, encode_base58_checksum\n",
    "from script import p2pkh_script, Script\n",
    "from tx import TxIn, TxOut, Tx\n",
    "\n",
    "SATOSHIS_PER_BTC = 100000000\n",
    "\n",
    "\n",
    "# create 1 TxIn and 2 TxOuts\n",
    "# 1 of the TxOuts should be back to your address\n",
    "# the other TxOut should be to this address\n",
    "target_address = 'mwJn1YPMq7y5F8J3LkC5Hxg9PHyZ5K4cFv'\n",
    "\n",
    "passphrase = b'csuh.web@gmail.com I know what you did last summer'\n",
    "secret = little_endian_to_int(hash256(passphrase))\n",
    "\n",
    "compressed = True\n",
    "testnet = True\n",
    "\n",
    "# create a private key using your secret\n",
    "private_key = PrivateKey(secret)\n",
    "public_key = private_key.point\n",
    "\n",
    "my_address = public_key.address(compressed=compressed, testnet=testnet)\n",
    "print('my address:', my_address, '\\n')\n",
    "\n",
    "# get the prev_tx and prev_index from the transaction where you got\n",
    "# some testnet coins\n",
    "# create a transaction input for the previous transaction with\n",
    "# the default ScriptSig and sequence\n",
    "\n",
    "# https://testnet-faucet.mempool.co\n",
    "# Transaction sent\n",
    "# TxID: 2dfed6e011e411d1d879b55a68abb1c006d4999c939038a22131c1015917e042\n",
    "# Address: n1jDwX925pqbwxA3PjLCZaSppawFeh6u2q (uncompressed)\n",
    "# Amount: 0.01\n",
    "\n",
    "# https://tbtc.bitaps.com\n",
    "# TxID: eb59e7694c3b28c3b0c79ef7760f06e6306f5ae2aed5c545da0a9d747b31a2e6\n",
    "# Address: mfvaMULiWEKRBggtFw1Bo1hy5azxMTZDey (compressed)\n",
    "# Amount: 0.01\n",
    "\n",
    "original_amount = int(0.01 * SATOSHIS_PER_BTC)\n",
    "\n",
    "prev_tx = bytes.fromhex('eb59e7694c3b28c3b0c79ef7760f06e6306f5ae2aed5c545da0a9d747b31a2e6')\n",
    "prev_index = 0\n",
    "\n",
    "tx_in = TxIn(prev_tx, prev_index)\n",
    "\n",
    "# target amount should be 60% of the output amount\n",
    "# set the fee to some reasonable amount\n",
    "# change amount = amount from the prev tx - target amount - fee\n",
    "# create a transaction output for the target amount and address\n",
    "# create a transaction output for the change amount and address\n",
    "# create the transaction object\n",
    "\n",
    "target_amount = int(0.6 * original_amount)\n",
    "target_h160 = decode_base58(target_address)\n",
    "target_script = p2pkh_script(target_h160)\n",
    "target_output = TxOut(amount=target_amount, script_pubkey=target_script)\n",
    "\n",
    "fee = int(0.001 * SATOSHIS_PER_BTC)\n",
    "\n",
    "change_amount = original_amount - target_amount - fee\n",
    "change_h160 = decode_base58(my_address)\n",
    "change_script = p2pkh_script(change_h160)\n",
    "change_output = TxOut(amount=change_amount, script_pubkey=change_script)\n",
    "\n",
    "transaction = Tx(\n",
    "    version=1,\n",
    "    tx_ins=[tx_in],\n",
    "    tx_outs=[target_output, change_output], \n",
    "    locktime=0, \n",
    "    testnet=testnet,\n",
    ")\n",
    "\n",
    "print(transaction, '\\n')\n",
    "\n",
    "# sign the one input in the transaction object using the private key\n",
    "# print the transaction's serialization in hex\n",
    "# broadcast at http://testnet.blockchain.info/pushtx\n",
    "\n",
    "is_success = transaction.sign_input(0, private_key, compressed=compressed)\n",
    "print('transaction signed successfully:', is_success, '\\n')\n",
    "print('transaction verified:', transaction.verify(), '\\n')\n",
    "print('signed transaction:\\n', transaction, '\\n')\n",
    "\n",
    "tx_hex = transaction.serialize().hex()\n",
    "print('transaction hex:\\n', tx_hex, '\\n')"
   ]
  },
  {
   "cell_type": "code",
   "execution_count": 230,
   "metadata": {},
   "outputs": [],
   "source": [
    "# successfully broadcast!\n",
    "# TxID: dc081b66f6e50978b97dd17403757ae9b423eaac413db95694059f4ea680bd77"
   ]
  },
  {
   "cell_type": "markdown",
   "metadata": {},
   "source": [
    "### Exercise 5\n",
    "\n",
    "Advanced: get some more testnet coins from a testnet faucet and create a 2 input, 1 output transaction. 1 input should be from the faucet, the other should be from the previous exercise, the output can be your own address.\n",
    "\n",
    "You can broadcast the transaction at https://testnet.blockchain.info/pushtx"
   ]
  },
  {
   "cell_type": "code",
   "execution_count": 243,
   "metadata": {},
   "outputs": [
    {
     "name": "stdout",
     "output_type": "stream",
     "text": [
      "Input 0 signed: True\n",
      "Input 1 signed: True\n",
      "Transaction verified: True\n",
      "Transaction hex: 0100000002427abe527d5ff16807056e4b9a7e54f01a25b0c1abd07c88a7e0d2d6caa09ca8000000006b483045022100d47cffe314b490c631beae0f694c11e4778d43b47daed06301ae281d0bdc41ae022032381288e68fdd0f9e3a8b2a706d5ed6b0461c78f3fbd0e0fcfb30390238458801210220bc554308700a6882193f7d695f0ce9a8484b906e98c9b2b173958cacc63c87ffffffff77bd80a64e9f059456b93d41acea23b4e97a750374d17db97809e5f6661b08dc010000006a473044022018483ce23b9fa69c7502d5e15f7fed2ccea7c4bd556565c122ffa5e6f4bba8440220446fa83fc640510314a3207c47739b64cc9437ab5ad1fae420df5fd525ff4c5f01210220bc554308700a6882193f7d695f0ce9a8484b906e98c9b2b173958cacc63c87ffffffff01804f1200000000001976a914ad346f8eb57dee9a37981716e498120ae80e44f788ac00000000\n"
     ]
    }
   ],
   "source": [
    "# Exercise 5\n",
    "\n",
    "from ecc import PrivateKey\n",
    "from helper import decode_base58, SIGHASH_ALL\n",
    "from script import p2pkh_script, Script\n",
    "from tx import TxIn, TxOut, Tx\n",
    "\n",
    "# Create 2 TxIns, 1 from the Exercise 4 and 1 from a testnet faucet\n",
    "# Creat 1 TxOut to the address above\n",
    "target_address = 'mwJn1YPMq7y5F8J3LkC5Hxg9PHyZ5K4cFv'\n",
    "\n",
    "# get the private key from the exercise in Chapter 4\n",
    "\n",
    "# get the prev_tx and prev_index from the transaction where you got\n",
    "# some testnet coins\n",
    "# create the first transaction input with the default ScriptSig and\n",
    "# sequence\n",
    "prev_tx_1 = bytes.fromhex('a89ca0cad6d2e0a7887cd0abc1b0251af0547e9a4b6e050768f15f7d52be7a42')\n",
    "prev_index_1 = 0\n",
    "\n",
    "tx_in_1 = TxIn(prev_tx_1, prev_index_1)\n",
    "\n",
    "# get the prev_tx and prev_index from the transaction in Exercise 4\n",
    "# create the second transaction input with the default ScriptSig and\n",
    "# sequence\n",
    "prev_tx_2 = bytes.fromhex('dc081b66f6e50978b97dd17403757ae9b423eaac413db95694059f4ea680bd77')\n",
    "prev_index_2 = 1\n",
    "\n",
    "tx_in_2 = TxIn(prev_tx_2, prev_index_2)\n",
    "\n",
    "# set the fee to some reasonable amount\n",
    "# target amount should be the sum of the inputs - fee\n",
    "fee = int(0.001 * SATOSHIS_PER_BTC)\n",
    "original_amount = tx_in_1.value(testnet) + tx_in_2.value(testnet)\n",
    "target_amount = original_amount - fee\n",
    "\n",
    "# create a transaction output for the amount and address\n",
    "target_h160 = decode_base58(target_address)\n",
    "target_script = p2pkh_script(target_h160)\n",
    "target_output = TxOut(amount=target_amount, script_pubkey=target_script)\n",
    "\n",
    "transaction = Tx(\n",
    "    version=1,\n",
    "    tx_ins=[tx_in_1, tx_in_2],\n",
    "    tx_outs=[target_output], \n",
    "    locktime=0, \n",
    "    testnet=testnet,\n",
    ")\n",
    "\n",
    "# sign the first input using the private key\n",
    "# sign the second input using the private key \n",
    "# print the transaction's serialization in hex\n",
    "# broadcast at http://testnet.blockchain.info/pushtx\n",
    "\n",
    "for i, _ in enumerate(transaction.tx_ins):\n",
    "    print(f'Input {i} signed:', transaction.sign_input(i, private_key))\n",
    "    \n",
    "print('Transaction verified:', transaction.verify())\n",
    "print('Transaction hex:', transaction.serialize().hex())"
   ]
  },
  {
   "cell_type": "code",
   "execution_count": 244,
   "metadata": {},
   "outputs": [],
   "source": [
    "# Transaction successfully broadcast!\n",
    "# TxID: 2db513b1607e8e82dd4d4fb45de4243e0c02780e2ff5423a68dcb6358daab74e"
   ]
  },
  {
   "cell_type": "code",
   "execution_count": null,
   "metadata": {},
   "outputs": [],
   "source": []
  }
 ],
 "metadata": {
  "kernelspec": {
   "display_name": "Python 3",
   "language": "python",
   "name": "python3"
  },
  "language_info": {
   "codemirror_mode": {
    "name": "ipython",
    "version": 3
   },
   "file_extension": ".py",
   "mimetype": "text/x-python",
   "name": "python",
   "nbconvert_exporter": "python",
   "pygments_lexer": "ipython3",
   "version": "3.7.1"
  }
 },
 "nbformat": 4,
 "nbformat_minor": 2
}
